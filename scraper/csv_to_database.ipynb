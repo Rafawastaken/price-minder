{
 "cells": [
  {
   "cell_type": "markdown",
   "metadata": {},
   "source": [
    "## Add CSV to database\n",
    "\n",
    "Simple script to add .csv files to database"
   ]
  },
  {
   "cell_type": "markdown",
   "metadata": {},
   "source": [
    "steam_id = form.steam_id.data\n",
    "name = form.name.data\n",
    "release_date = form.release_date.data\n",
    "product_type = form.product_type.data\n",
    "description = form.description.data\n",
    "\n",
    "link_header = form.link_header.data\n",
    "capsule_image = form.capsule_image.data\n",
    "capsule_imagev5 = form.capsule_imagev5.data\n",
    "\n",
    "price = form.price.data\n",
    "on_sale = form.on_sale.data\n",
    "discout_price = form.discount_price.data\n",
    "discount_percent = form.discount_percent.data"
   ]
  }
 ],
 "metadata": {
  "language_info": {
   "name": "python"
  },
  "orig_nbformat": 4
 },
 "nbformat": 4,
 "nbformat_minor": 2
}
