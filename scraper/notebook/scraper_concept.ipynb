{
 "cells": [
  {
   "cell_type": "markdown",
   "metadata": {},
   "source": [
    "## Game Prices Scraper Concept\n",
    "Notebook to test of webscraper to aquire data of «watched» games. \n",
    "\n",
    "### Aquired Data\n",
    "1. Steam web api\n",
    "2. Will add other sites to make price comparison"
   ]
  },
  {
   "cell_type": "markdown",
   "metadata": {},
   "source": [
    "### Import dependencies"
   ]
  },
  {
   "cell_type": "code",
   "execution_count": 2,
   "metadata": {},
   "outputs": [],
   "source": [
    "from bs4 import BeautifulStoneSoup as sp\n",
    "import requests\n",
    "import pandas as pd\n",
    "import json"
   ]
  },
  {
   "cell_type": "markdown",
   "metadata": {},
   "source": [
    "### Get all games"
   ]
  },
  {
   "cell_type": "code",
   "execution_count": 5,
   "metadata": {},
   "outputs": [],
   "source": [
    "# Make a request to retrieve the list of games\n",
    "response = requests.get('https://api.steampowered.com/ISteamApps/GetAppList/v2/')\n",
    "\n",
    "games = []\n",
    "\n",
    "# Check if the request was successful (status code 200)\n",
    "if response.status_code == 200:\n",
    "    # Parse the JSON response\n",
    "    data = response.json()\n",
    "\n",
    "    # Retrieve the list of apps from the response\n",
    "    app_list = data['applist']['apps']\n",
    "\n",
    "    # Create a dictionary to store game names and app IDs\n",
    "    game_dict = {}\n",
    "\n",
    "    # Iterate over each app and store the game name and app ID in the dictionary\n",
    "    for app in app_list:\n",
    "        game_name = app['name']\n",
    "        app_id = app['appid']\n",
    "        \n",
    "        if game_name == '' or app_id == '':\n",
    "            continue\n",
    "\n",
    "        games.append({\n",
    "            \"name\":game_name,\n",
    "            \"id\":app_id\n",
    "        })\n",
    "else:\n",
    "    print(\"Failed to retrieve the list of games.\")\n",
    "\n",
    "\n",
    "df_games = pd.DataFrame(games)\n",
    "df_games.to_csv('steam_list.csv', sep=';', index=False)"
   ]
  },
  {
   "cell_type": "markdown",
   "metadata": {},
   "source": [
    "### Get game details using Steam Api"
   ]
  },
  {
   "cell_type": "code",
   "execution_count": 8,
   "metadata": {},
   "outputs": [
    {
     "name": "stdout",
     "output_type": "stream",
     "text": [
      "Release Date: 6 Aug, 2018\n",
      "App ID: 588650\n",
      "Price: 12,49€\n",
      "On Sale: Yes\n",
      "Discount: 50%\n",
      "Sale Price: 1249\n",
      "Original Price: 2499\n",
      "Game Description: <h1>New DLC Available</h1><p><a href=\"https://store.steampowered.com/app/2101430/Dead_Cells_Return_to_Castlevania/\" target=\"_blank\" rel=\"\"  id=\"dynamiclink_0\" >https://store.steampowered.com/app/2101430/Dead_Cells_Return_to_Castlevania/</a><h2 class=\"bb_tag\">Return to Castlevania DLC is available now!</h2></p><br><h1>About the Game</h1><img src=\"https://cdn.akamai.steamstatic.com/steam/apps/588650/extras/store-3-wall-jump.gif?t=1678188017\" /><h2 class=\"bb_tag\">Roguelite? Metroidvania? Roguevania!</h2>You grew up with the roguelikes, witnessed the rise of the roguelites and even the birth of the roguelite-lites?  We'd now like to present for your consideration our <strong>RogueVania</strong>, the illegitimate child of a modern <strong>Roguelite</strong> (<i>Rogue Legacy, Binding of Isaac, Enter the Gungeon, Spelunky,</i> etc.) and an old-school <strong>MetroidVania </strong>(<i>Castlevania: SotN</i> and its ilk).<br><br><img src=\"https://cdn.akamai.steamstatic.com/steam/apps/588650/extras/store-2-panchaku.gif?t=1678188017\" /><h2 class=\"bb_tag\">Features:</h2><br><ul class=\"bb_ul\"><li><i>RogueVania</i>: The progressive exploration of an interconnected world, with the replayability of a rogue-lite and the adrenaline pumping threat of permadeath.<br></li><li><i>2D Souls-lite Action</i>: Tough but fair combat, more than 150 weapons and spells with unique gameplay, and of course, the emergency panic roll to get you out of trouble. <br></li><li><i>Nonlinear progression</i>: Sewers, Ossuary or Ramparts? Once unlocked, special permanent abilities allow you to access new paths to reach your objective. Opt for the path that suits your current build, your play style or just your mood.<br></li><li><i>Exploration</i>: Secret rooms, hidden passages, charming landscapes. Take a moment to stroll the towers and breath in that fresh sea mist infused air...<br></li><li><i>Regular free updates</i>: We are still adding content to the game every 2-3 months to keep the game fresh for you!</li></ul><br>Interconnected levels and progressive unlocking of access to the island provides you with a real incentive to explore your surroundings. Add in a degree of evolution for your character and permanent weapon upgrades and you can see where Dead Cells borrows from the long line of <strong>MetroidVanias </strong>that precede it.<br><br>At the end of the day though, it’s YOUR skills as a player that matter most! <strong>Roguelites </strong>are about constantly getting better, until what was an insurmountable obstacle becomes a walk in the park. Unforgiving combat wed to the absence of any kind of safety net makes for an adrenaline pumping ride each and every run and unrivaled replayability.<br><br><img src=\"https://cdn.akamai.steamstatic.com/steam/apps/588650/extras/Ossuary-Spawner_-_Copy.jpg?t=1678188017\" /><h2 class=\"bb_tag\">Dead Cells left Early Access on August 7th 2018 and comes with:</h2><br><ul class=\"bb_ul\"><li><i>17 Levels - Each one with its own atmosphere</i>, foes and secrets to discover.<br></li><li><i>5 Bosses - Made by the most sadistic of the devs</i>, raised on the salt of the testers. <br></li><li>150 or so weapons and skills - Spears, swords, bows, freeze blast, etc.   <br></li><li><i>4 special powers, unlocking new areas</i> and paths (metroidvania gear lock items).<br></li><li><i>1 epic responsive,</i> fluid and fun to play combat system.<br></li><li><i>1 Daily Run Mode</i> Complete with leaderboards for lording it over your mates.<br></li><li><i>Hours of fun</i> (depending on your skill, anything from 10 to 30 hours or more).<br></li><li><i>A few rage-quits,</i> Ok a lot of rage quits… But you’ll git gud… Eventually.</li></ul><br><img src=\"https://cdn.akamai.steamstatic.com/steam/apps/588650/extras/store-1-group-kill.gif?t=1678188017\" />\n",
      "Image URL: https://cdn.akamai.steamstatic.com/steam/apps/588650/header.jpg?t=1678188017\n"
     ]
    }
   ],
   "source": [
    "import requests\n",
    "\n",
    "game_name = \"Dead Cells\"  # Replace with the desired game name\n",
    "\n",
    "response = requests.get(f'https://api.steampowered.com/ISteamApps/GetAppList/v2/')\n",
    "if response.status_code == 200:\n",
    "    game_list = response.json()['applist']['apps']\n",
    "    game = next((app for app in game_list if app['name'].lower() == game_name.lower()), None)\n",
    "\n",
    "    if game:\n",
    "        app_id = game['appid']\n",
    "        app_details_url = f'https://store.steampowered.com/api/appdetails?appids={app_id}'\n",
    "        app_details_response = requests.get(app_details_url)\n",
    "        if app_details_response.status_code == 200:\n",
    "            app_details = app_details_response.json()[str(app_id)]\n",
    "            success = app_details['success']\n",
    "            if success:\n",
    "                data = app_details['data']\n",
    "                release_date = data['release_date']['date']\n",
    "                print(f\"Release Date: {release_date}\")\n",
    "                price_overview = data['price_overview']\n",
    "                print(f\"App ID: {app_id}\")\n",
    "                print(f\"Price: {price_overview['final_formatted']}\")\n",
    "\n",
    "                if 'discount_percent' in price_overview:\n",
    "                    discount_percent = price_overview['discount_percent']\n",
    "                    discount_price = price_overview['final']\n",
    "                    original_price = price_overview['initial']\n",
    "                    print(f\"On Sale: Yes\")\n",
    "                    print(f\"Discount: {discount_percent}%\")\n",
    "                    print(f\"Sale Price: {discount_price}\")\n",
    "                    print(f\"Original Price: {original_price}\")\n",
    "                else:\n",
    "                    print(\"On Sale: No\")\n",
    "\n",
    "                # Retrieve the game description\n",
    "                game_description = data['detailed_description']\n",
    "                print(f\"Game Description: {game_description}\")\n",
    "\n",
    "                # Retrieve the image URL\n",
    "                header_image = data['header_image']\n",
    "                print(f\"Image URL: {header_image}\")\n",
    "            else:\n",
    "                print(f\"Failed to retrieve data for app ID: {app_id}\")\n",
    "        else:\n",
    "            print(\"Error occurred while retrieving app details:\", app_details_response.status_code)\n",
    "    else:\n",
    "        print(f\"Game '{game_name}' not found.\")\n",
    "else:\n",
    "    print(\"Error occurred while retrieving game list:\", response.status_code)\n"
   ]
  },
  {
   "cell_type": "code",
   "execution_count": null,
   "metadata": {},
   "outputs": [],
   "source": []
  }
 ],
 "metadata": {
  "kernelspec": {
   "display_name": "Python 3",
   "language": "python",
   "name": "python3"
  },
  "language_info": {
   "codemirror_mode": {
    "name": "ipython",
    "version": 3
   },
   "file_extension": ".py",
   "mimetype": "text/x-python",
   "name": "python",
   "nbconvert_exporter": "python",
   "pygments_lexer": "ipython3",
   "version": "3.11.0"
  },
  "orig_nbformat": 4
 },
 "nbformat": 4,
 "nbformat_minor": 2
}
